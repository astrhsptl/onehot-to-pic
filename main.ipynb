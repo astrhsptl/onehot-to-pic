{
 "cells": [
  {
   "cell_type": "code",
   "execution_count": 38,
   "metadata": {},
   "outputs": [],
   "source": [
    "#import bibles\n",
    "import os\n",
    "os.environ['TF_CPP_MIN_LOG_LEVEL'] = '3'\n",
    "\n",
    "import keras\n",
    "import numpy as np\n",
    "import tensorflow as tf\n",
    "import matplotlib.pyplot as plt\n",
    "\n",
    "from keras.datasets import mnist\n",
    "from keras import Sequential, Model\n",
    "from keras.utils import to_categorical\n",
    "from keras.layers import Dense, Conv2DTranspose, LeakyReLU\n",
    "from keras.layers import BatchNormalization, Dropout, Reshape, Input"
   ]
  },
  {
   "cell_type": "code",
   "execution_count": 39,
   "metadata": {},
   "outputs": [
    {
     "name": "stdout",
     "output_type": "stream",
     "text": [
      "(28, 28, 1)\n"
     ]
    },
    {
     "data": {
      "text/plain": [
       "<matplotlib.image.AxesImage at 0x7f33a1bd7fd0>"
      ]
     },
     "execution_count": 39,
     "metadata": {},
     "output_type": "execute_result"
    },
    {
     "data": {
      "image/png": "[encoded data removed]",
      "text/plain": [
       "<Figure size 432x288 with 1 Axes>"
      ]
     },
     "metadata": {
      "needs_background": "light"
     },
     "output_type": "display_data"
    }
   ],
   "source": [
    "#load data\n",
    "(y_train, x_train), (y_test,x_test) = mnist.load_data()\n",
    "\n",
    "#nums to one-hot vector\n",
    "x_train = to_categorical(x_train, 10)\n",
    "x_test = to_categorical(x_test, 10)\n",
    "\n",
    "#reshape y_x data\n",
    "y_train = np.reshape(y_train, (len(y_train), 28, 28, 1))\n",
    "y_test = np.reshape(y_test, (len(y_test), 28, 28, 1))\n",
    "\n",
    "#print and show any data about mnist\n",
    "print(y_train[1].shape)\n",
    "plt.imshow(y_train[1], cmap='gray')"
   ]
  },
  {
   "cell_type": "code",
   "execution_count": 73,
   "metadata": {},
   "outputs": [
    {
     "name": "stdout",
     "output_type": "stream",
     "text": [
      "Model: \"sequential_19\"\n",
      "_________________________________________________________________\n",
      " Layer (type)                Output Shape              Param #   \n",
      "=================================================================\n",
      " dense_46 (Dense)            (None, 12544)             137984    \n",
      "                                                                 \n",
      " batch_normalization_52 (Bat  (None, 12544)            50176     \n",
      " chNormalization)                                                \n",
      "                                                                 \n",
      " reshape_19 (Reshape)        (None, 7, 7, 256)         0         \n",
      "                                                                 \n",
      " conv2d_transpose_74 (Conv2D  (None, 7, 7, 128)        819328    \n",
      " Transpose)                                                      \n",
      "                                                                 \n",
      " batch_normalization_53 (Bat  (None, 7, 7, 128)        512       \n",
      " chNormalization)                                                \n",
      "                                                                 \n",
      " conv2d_transpose_75 (Conv2D  (None, 14, 14, 64)       204864    \n",
      " Transpose)                                                      \n",
      "                                                                 \n",
      " batch_normalization_54 (Bat  (None, 14, 14, 64)       256       \n",
      " chNormalization)                                                \n",
      "                                                                 \n",
      " conv2d_transpose_76 (Conv2D  (None, 28, 28, 1)        1601      \n",
      " Transpose)                                                      \n",
      "                                                                 \n",
      "=================================================================\n",
      "Total params: 1,214,721\n",
      "Trainable params: 1,189,249\n",
      "Non-trainable params: 25,472\n",
      "_________________________________________________________________\n"
     ]
    }
   ],
   "source": [
    "#model\n",
    "model = Sequential([\n",
    "  Input(shape=[10]),\n",
    "  Dense(7 * 7 * 256, activation='relu'),\n",
    "  BatchNormalization(),\n",
    "  Reshape((7, 7, 256)),\n",
    "  Conv2DTranspose(128, (5, 5), strides=(1, 1), padding='same', activation='relu'),\n",
    "  BatchNormalization(),\n",
    "  Conv2DTranspose(64, (5, 5), strides=(2, 2), padding='same', activation='relu'),\n",
    "  BatchNormalization(),\n",
    "  Conv2DTranspose(1, (5, 5), strides=(2, 2), padding='same', activation='sigmoid'),\n",
    "])\n",
    "model.summary()\n",
    "model.compile(loss='mae', optimizer='adam', metrics=['acc']) #select loss (Mean Absolute Error (sum(|y_true-y_pred|))), optimizer - Adam"
   ]
  },
  {
   "cell_type": "code",
   "execution_count": 74,
   "metadata": {},
   "outputs": [
    {
     "name": "stdout",
     "output_type": "stream",
     "text": [
      "Epoch 1/3\n",
      "1875/1875 [==============================] - 97s 51ms/step - loss: 33.2477 - acc: 0.7473\n",
      "Epoch 2/3\n",
      "1875/1875 [==============================] - 97s 52ms/step - loss: 33.2435 - acc: 0.7542\n",
      "Epoch 3/3\n",
      "1875/1875 [==============================] - 98s 52ms/step - loss: 33.2432 - acc: 0.7556\n"
     ]
    }
   ],
   "source": [
    "history = model.fit(x_train, y_train, epochs=3) # fit on 3 epochs"
   ]
  },
  {
   "cell_type": "code",
   "execution_count": 89,
   "metadata": {},
   "outputs": [
    {
     "name": "stdout",
     "output_type": "stream",
     "text": [
      "1/1 [==============================] - 0s 11ms/step\n",
      "1/1 [==============================] - 0s 14ms/step\n",
      "1/1 [==============================] - 0s 11ms/step\n",
      "1/1 [==============================] - 0s 11ms/step\n",
      "1/1 [==============================] - 0s 11ms/step\n",
      "1/1 [==============================] - 0s 12ms/step\n",
      "1/1 [==============================] - 0s 13ms/step\n",
      "1/1 [==============================] - 0s 12ms/step\n",
      "1/1 [==============================] - 0s 11ms/step\n",
      "1/1 [==============================] - 0s 11ms/step\n"
     ]
    },
    {
     "data": {
      "image/png": "[encoded data removed]",
      "text/plain": [
       "<Figure size 72x720 with 10 Axes>"
      ]
     },
     "metadata": {
      "needs_background": "light"
     },
     "output_type": "display_data"
    }
   ],
   "source": [
    "plt.figure(figsize=(1,10))\n",
    "\n",
    "for i in range(0,10):\n",
    "    ax = plt.subplot(1,10,i+1)\n",
    "    raw_data = i\n",
    "    raw_to_onehot = to_categorical(i, 10)\n",
    "    raw_prediction = model.predict(np.reshape(raw_to_onehot, (1, 10)))\n",
    "    img = np.reshape(raw_prediction, (28,28,1))\n",
    "    plt.imshow(img*255, cmap='gray')\n",
    "    ax.get_xaxis().set_visible(False)\n",
    "    ax.get_yaxis().set_visible(False)\n",
    "\n",
    "plt.show()"
   ]
  }
 ],
 "metadata": {
  "kernelspec": {
   "display_name": "Python 3.9.2 64-bit",
   "language": "python",
   "name": "python3"
  },
  "language_info": {
   "codemirror_mode": {
    "name": "ipython",
    "version": 3
   },
   "file_extension": ".py",
   "mimetype": "text/x-python",
   "name": "python",
   "nbconvert_exporter": "python",
   "pygments_lexer": "ipython3",
   "version": "3.9.2"
  },
  "orig_nbformat": 4,
  "vscode": {
   "interpreter": {
    "hash": "916dbcbb3f70747c44a77c7bcd40155683ae19c65e1c03b4aa3499c5328201f1"
   }
  }
 },
 "nbformat": 4,
 "nbformat_minor": 2
}
